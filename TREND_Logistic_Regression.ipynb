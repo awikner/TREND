{
  "nbformat": 4,
  "nbformat_minor": 0,
  "metadata": {
    "colab": {
      "name": "TREND_Logistic_Regression.ipynb",
      "provenance": [],
      "authorship_tag": "ABX9TyMfVQ/oLF/yB4Z+/itSK4Dx",
      "include_colab_link": true
    },
    "kernelspec": {
      "name": "python3",
      "display_name": "Python 3"
    }
  },
  "cells": [
    {
      "cell_type": "markdown",
      "metadata": {
        "id": "view-in-github",
        "colab_type": "text"
      },
      "source": [
        "<a href=\"https://colab.research.google.com/github/awikner/TREND/blob/master/TREND_Logistic_Regression.ipynb\" target=\"_parent\"><img src=\"https://colab.research.google.com/assets/colab-badge.svg\" alt=\"Open In Colab\"/></a>"
      ]
    },
    {
      "cell_type": "markdown",
      "metadata": {
        "id": "ztgbNQPiDwMj",
        "colab_type": "text"
      },
      "source": [
        "## Import libraries and sklearn and skimage modules."
      ]
    },
    {
      "cell_type": "code",
      "metadata": {
        "id": "bBziqNKfRBEp",
        "colab_type": "code",
        "colab": {}
      },
      "source": [
        "import matplotlib.pyplot as plt\n",
        "import numpy as np\n",
        "\n",
        "from sklearn.datasets import fetch_openml\n",
        "from sklearn.linear_model import LogisticRegression\n",
        "from sklearn.model_selection import train_test_split\n",
        "from sklearn.preprocessing import StandardScaler\n",
        "from sklearn.utils import check_random_state\n",
        "from skimage.util import invert"
      ],
      "execution_count": 1,
      "outputs": []
    },
    {
      "cell_type": "markdown",
      "metadata": {
        "id": "YKQLfjiFGwAu",
        "colab_type": "text"
      },
      "source": [
        "## Load in the mnist handwritten number dataset from the openml library. The X array contains images of handwritten numbers, while the y array contains their known classification."
      ]
    },
    {
      "cell_type": "code",
      "metadata": {
        "id": "vy_gPQmwDujh",
        "colab_type": "code",
        "colab": {}
      },
      "source": [
        "X, y = fetch_openml('mnist_784', version=1, return_X_y=True)"
      ],
      "execution_count": 2,
      "outputs": []
    },
    {
      "cell_type": "markdown",
      "metadata": {
        "id": "BxT2tuJzHFYG",
        "colab_type": "text"
      },
      "source": [
        "## We plot a few of the number images and their known classifications in greyscale."
      ]
    },
    {
      "cell_type": "code",
      "metadata": {
        "id": "H6nM2m5yEtRY",
        "colab_type": "code",
        "colab": {
          "base_uri": "https://localhost:8080/",
          "height": 809
        },
        "outputId": "d4b6259a-6c7d-499e-90d1-c742dc586c19"
      },
      "source": [
        "plt.imshow(invert(X[0].reshape(28,28)),interpolation='nearest',cmap=\"gray\")\n",
        "plt.title(str(y[0]))\n",
        "plt.show()\n",
        "\n",
        "plt.imshow(invert(X[1].reshape(28,28)),interpolation='nearest',cmap=\"gray\")\n",
        "plt.title(str(y[1]))\n",
        "plt.show()\n",
        "\n",
        "plt.imshow(invert(X[2].reshape(28,28)),interpolation='nearest',cmap=\"gray\")\n",
        "plt.title(str(y[2]))\n",
        "plt.show()\n"
      ],
      "execution_count": 3,
      "outputs": [
        {
          "output_type": "display_data",
          "data": {
            "image/png": "[encoded data removed]",
            "text/plain": [
              "<Figure size 432x288 with 1 Axes>"
            ]
          },
          "metadata": {
            "tags": [],
            "needs_background": "light"
          }
        },
        {
          "output_type": "display_data",
          "data": {
            "image/png": "[encoded data removed]",
            "text/plain": [
              "<Figure size 432x288 with 1 Axes>"
            ]
          },
          "metadata": {
            "tags": [],
            "needs_background": "light"
          }
        },
        {
          "output_type": "display_data",
          "data": {
            "image/png": "[encoded data removed]",
            "text/plain": [
              "<Figure size 432x288 with 1 Axes>"
            ]
          },
          "metadata": {
            "tags": [],
            "needs_background": "light"
          }
        }
      ]
    },
    {
      "cell_type": "markdown",
      "metadata": {
        "id": "f-UH43dLISwx",
        "colab_type": "text"
      },
      "source": [
        "## Before we can begin classification, we must train our model. We begin by breaking up our data set into training and testing sets."
      ]
    },
    {
      "cell_type": "code",
      "metadata": {
        "id": "H5thcp14ESID",
        "colab_type": "code",
        "colab": {}
      },
      "source": [
        "train_samples = 7000\n",
        "test_samples = 10000\n",
        "X_train, X_test, y_train, y_test = train_test_split(X,y,train_size = train_samples, test_size = test_samples)"
      ],
      "execution_count": 4,
      "outputs": []
    },
    {
      "cell_type": "markdown",
      "metadata": {
        "id": "x5qyg4JEIsKu",
        "colab_type": "text"
      },
      "source": [
        "## We use sklearn to create our logistic regression classifier. We then fit it to our training data."
      ]
    },
    {
      "cell_type": "code",
      "metadata": {
        "id": "WpgCMlKXJtIQ",
        "colab_type": "code",
        "colab": {
          "base_uri": "https://localhost:8080/",
          "height": 102
        },
        "outputId": "c110dae7-c9a2-4c9a-cf94-1793339abe8b"
      },
      "source": [
        "classifier = LogisticRegression(solver = 'saga', penalty = 'l1', tol = 1e-2)\n",
        "classifier.fit(X_train, y_train)"
      ],
      "execution_count": 5,
      "outputs": [
        {
          "output_type": "execute_result",
          "data": {
            "text/plain": [
              "LogisticRegression(C=1.0, class_weight=None, dual=False, fit_intercept=True,\n",
              "                   intercept_scaling=1, l1_ratio=None, max_iter=100,\n",
              "                   multi_class='auto', n_jobs=None, penalty='l1',\n",
              "                   random_state=None, solver='saga', tol=0.01, verbose=0,\n",
              "                   warm_start=False)"
            ]
          },
          "metadata": {
            "tags": []
          },
          "execution_count": 5
        }
      ]
    },
    {
      "cell_type": "markdown",
      "metadata": {
        "id": "97xnQo-5NtmM",
        "colab_type": "text"
      },
      "source": [
        "## We test the accuracy of our trained classifier using the accuracy score method on the training and testing data sets. This computes the number of accurately predicted classes over the total number of samples. Note that the in-sample (training) accuracy is much higher than the out-of-sample (test) accuracy."
      ]
    },
    {
      "cell_type": "code",
      "metadata": {
        "id": "EI8XTDbCO1a2",
        "colab_type": "code",
        "colab": {
          "base_uri": "https://localhost:8080/",
          "height": 51
        },
        "outputId": "228a4574-87b4-4cfe-a6a2-f92ff458a5a4"
      },
      "source": [
        "score_train = classifier.score(X_train,y_train)\n",
        "score_test  = classifier.score(X_test,y_test)\n",
        "\n",
        "print('Accuracy score for training data: ',score_train)\n",
        "print('Accuracy score for test data: ',score_test)"
      ],
      "execution_count": 6,
      "outputs": [
        {
          "output_type": "stream",
          "text": [
            "Accuracy score for training data:  0.9665714285714285\n",
            "Accuracy score for test data:  0.904\n"
          ],
          "name": "stdout"
        }
      ]
    },
    {
      "cell_type": "markdown",
      "metadata": {
        "id": "7YtgVtzSPkw5",
        "colab_type": "text"
      },
      "source": [
        "## Finally, we plot a few test images to show how our classifier has classified them."
      ]
    },
    {
      "cell_type": "code",
      "metadata": {
        "id": "8PwVo6huP7Rs",
        "colab_type": "code",
        "colab": {
          "base_uri": "https://localhost:8080/",
          "height": 809
        },
        "outputId": "0fc8a464-fdbf-4d65-80b2-cfc516050f6c"
      },
      "source": [
        "offset = 13\n",
        "\n",
        "y0_test = classifier.predict(X_test[0 + offset].reshape(-1,X_test.shape[1]))\n",
        "plt.imshow(invert(X_test[0 + offset].reshape(28,28)),interpolation='nearest',cmap=\"gray\")\n",
        "plt.title('Predicted number: '+y0_test+', True number: '+y_test[0+offset])\n",
        "plt.show()\n",
        "\n",
        "y1_test = classifier.predict(X_test[1 + offset ].reshape(-1,X_test.shape[1]))\n",
        "plt.imshow(invert(X_test[1 + offset].reshape(28,28)),interpolation='nearest',cmap=\"gray\")\n",
        "plt.title('Predicted number: '+y1_test+', True number: '+y_test[1+offset])\n",
        "plt.show()\n",
        "\n",
        "y2_test = classifier.predict(X_test[2 + offset].reshape(-1,X_test.shape[1]))\n",
        "plt.imshow(invert(X_test[2 + offset].reshape(28,28)),interpolation='nearest',cmap=\"gray\")\n",
        "plt.title('Predicted number: '+y2_test+', True number: '+y_test[2+offset])\n",
        "plt.show()"
      ],
      "execution_count": 11,
      "outputs": [
        {
          "output_type": "display_data",
          "data": {
            "image/png": "[encoded data removed]",
            "text/plain": [
              "<Figure size 432x288 with 1 Axes>"
            ]
          },
          "metadata": {
            "tags": [],
            "needs_background": "light"
          }
        },
        {
          "output_type": "display_data",
          "data": {
            "image/png": "[encoded data removed]",
            "text/plain": [
              "<Figure size 432x288 with 1 Axes>"
            ]
          },
          "metadata": {
            "tags": [],
            "needs_background": "light"
          }
        },
        {
          "output_type": "display_data",
          "data": {
            "image/png": "[encoded data removed]",
            "text/plain": [
              "<Figure size 432x288 with 1 Axes>"
            ]
          },
          "metadata": {
            "tags": [],
            "needs_background": "light"
          }
        }
      ]
    }
  ]
}